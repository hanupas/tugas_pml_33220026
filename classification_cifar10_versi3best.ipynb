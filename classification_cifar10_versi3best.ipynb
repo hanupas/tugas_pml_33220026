{
  "nbformat": 4,
  "nbformat_minor": 0,
  "metadata": {
    "colab": {
      "name": "cifar10_versi3best.ipynb",
      "provenance": [],
      "collapsed_sections": []
    },
    "kernelspec": {
      "name": "python3",
      "display_name": "Python 3"
    },
    "language_info": {
      "name": "python"
    },
    "accelerator": "GPU"
  },
  "cells": [
    {
      "cell_type": "code",
      "execution_count": 1,
      "metadata": {
        "id": "kqYSkE28Vnjl"
      },
      "outputs": [],
      "source": [
        "import tensorflow as tf\n",
        "from tensorflow.keras import datasets, layers, models\n",
        "import matplotlib.pyplot as plt\n",
        "import numpy as np"
      ]
    },
    {
      "cell_type": "code",
      "source": [
        "(X_train, y_train),(X_test, y_test) = datasets.cifar10.load_data()\n",
        "print(X_train.shape)\n",
        "print(X_test.shape)"
      ],
      "metadata": {
        "id": "xOWQUsE5WVVy",
        "colab": {
          "base_uri": "https://localhost:8080/"
        },
        "outputId": "88de06ea-4fe4-484f-b8ff-14d091f381e1"
      },
      "execution_count": 2,
      "outputs": [
        {
          "output_type": "stream",
          "name": "stdout",
          "text": [
            "Downloading data from https://www.cs.toronto.edu/~kriz/cifar-10-python.tar.gz\n",
            "170500096/170498071 [==============================] - 3s 0us/step\n",
            "170508288/170498071 [==============================] - 3s 0us/step\n",
            "(50000, 32, 32, 3)\n",
            "(10000, 32, 32, 3)\n"
          ]
        }
      ]
    },
    {
      "cell_type": "code",
      "source": [
        "X_train = X_train/255\n",
        "X_test = X_test/255"
      ],
      "metadata": {
        "id": "LxardcLuYQnI"
      },
      "execution_count": null,
      "outputs": []
    },
    {
      "cell_type": "code",
      "source": [
        "ann = models.Sequential([\n",
        "        layers.Flatten(input_shape=(32,32,3)),\n",
        "        layers.Dense(3000,activation='relu'),\n",
        "        layers.Dense(1000,activation='relu'),\n",
        "        layers.Dense(10, activation='sigmoid')\n",
        "      ])\n",
        "\n",
        "ann.compile(optimizer='SGD',\n",
        "            loss='sparse_categorical_crossentropy',\n",
        "            metrics=['accuracy'])\n",
        "\n",
        "ann.fit(X_train,y_train,epochs=10)"
      ],
      "metadata": {
        "colab": {
          "base_uri": "https://localhost:8080/"
        },
        "id": "IWH34UU4XCxy",
        "outputId": "61b71b0e-f455-4e03-a2b2-fa9552985de5"
      },
      "execution_count": null,
      "outputs": [
        {
          "output_type": "stream",
          "name": "stdout",
          "text": [
            "Epoch 1/10\n",
            "1563/1563 [==============================] - 14s 7ms/step - loss: 1.8170 - accuracy: 0.3543\n",
            "Epoch 2/10\n",
            "1563/1563 [==============================] - 12s 7ms/step - loss: 1.6255 - accuracy: 0.4247\n",
            "Epoch 3/10\n",
            "1563/1563 [==============================] - 11s 7ms/step - loss: 1.5450 - accuracy: 0.4547\n",
            "Epoch 4/10\n",
            "1563/1563 [==============================] - 12s 7ms/step - loss: 1.4850 - accuracy: 0.4785\n",
            "Epoch 5/10\n",
            "1563/1563 [==============================] - 11s 7ms/step - loss: 1.4352 - accuracy: 0.4946\n",
            "Epoch 6/10\n",
            "1563/1563 [==============================] - 11s 7ms/step - loss: 1.3930 - accuracy: 0.5087\n",
            "Epoch 7/10\n",
            "1563/1563 [==============================] - 11s 7ms/step - loss: 1.3542 - accuracy: 0.5236\n",
            "Epoch 8/10\n",
            "1563/1563 [==============================] - 12s 7ms/step - loss: 1.3203 - accuracy: 0.5361\n",
            "Epoch 9/10\n",
            "1563/1563 [==============================] - 12s 7ms/step - loss: 1.2875 - accuracy: 0.5490\n",
            "Epoch 10/10\n",
            "1563/1563 [==============================] - 12s 7ms/step - loss: 1.2564 - accuracy: 0.5590\n"
          ]
        },
        {
          "output_type": "execute_result",
          "data": {
            "text/plain": [
              "<keras.callbacks.History at 0x7fced0bbedd0>"
            ]
          },
          "metadata": {},
          "execution_count": 7
        }
      ]
    },
    {
      "cell_type": "code",
      "source": [
        "from sklearn.metrics import confusion_matrix , classification_report\n",
        "import numpy as np\n",
        "y_pred = ann.predict(X_test)\n",
        "y_pred_classes = [np.argmax(element) for element in y_pred]\n",
        "\n",
        "print(\"Classification Report: \\n\", classification_report(y_test, y_pred_classes))"
      ],
      "metadata": {
        "colab": {
          "base_uri": "https://localhost:8080/"
        },
        "id": "6y3nylNzXbIn",
        "outputId": "b169045e-e246-4020-b9f1-86d0180c9ce2"
      },
      "execution_count": null,
      "outputs": [
        {
          "output_type": "stream",
          "name": "stdout",
          "text": [
            "Classification Report: \n",
            "               precision    recall  f1-score   support\n",
            "\n",
            "           0       0.58      0.61      0.59      1000\n",
            "           1       0.70      0.52      0.60      1000\n",
            "           2       0.36      0.48      0.41      1000\n",
            "           3       0.40      0.20      0.27      1000\n",
            "           4       0.45      0.42      0.43      1000\n",
            "           5       0.69      0.13      0.22      1000\n",
            "           6       0.40      0.78      0.53      1000\n",
            "           7       0.70      0.45      0.55      1000\n",
            "           8       0.68      0.64      0.66      1000\n",
            "           9       0.44      0.77      0.56      1000\n",
            "\n",
            "    accuracy                           0.50     10000\n",
            "   macro avg       0.54      0.50      0.48     10000\n",
            "weighted avg       0.54      0.50      0.48     10000\n",
            "\n"
          ]
        }
      ]
    },
    {
      "cell_type": "code",
      "source": [
        "cnn = models.Sequential([\n",
        "        #cnn layers\n",
        "        #this layer can detect 32 different filter or 32 different edges in your images. Each filter have kernel size 3x3\n",
        "        layers.Conv2D(filters=32, kernel_size=(3,3), activation='relu',input_shape=(32,32,3)),\n",
        "        layers.MaxPooling2D((2,2)),\n",
        "        layers.Conv2D(filters=64, kernel_size=(3,3), activation='relu'),\n",
        "        layers.MaxPooling2D((2,2)),\n",
        "\n",
        "        #dense layers\n",
        "        layers.Flatten(),\n",
        "        layers.Dense(128,activation='relu'),\n",
        "        layers.Dense(64,activation='relu'),\n",
        "        layers.Dense(10, activation='softmax')\n",
        "      ])"
      ],
      "metadata": {
        "id": "DD9CGe2BunCo"
      },
      "execution_count": 3,
      "outputs": []
    },
    {
      "cell_type": "code",
      "source": [
        "cnn.compile(\n",
        "    optimizer='adam',\n",
        "    loss = 'sparse_categorical_crossentropy',\n",
        "    metrics = ['accuracy']\n",
        ")"
      ],
      "metadata": {
        "id": "zbhY9vsi18cY"
      },
      "execution_count": 4,
      "outputs": []
    },
    {
      "cell_type": "code",
      "source": [
        "cnn.fit(X_train,y_train,epochs=10)"
      ],
      "metadata": {
        "colab": {
          "base_uri": "https://localhost:8080/"
        },
        "id": "nEvNaivl2n2X",
        "outputId": "3eba2b28-ac91-407d-cb8a-a8bae94ce8de"
      },
      "execution_count": 5,
      "outputs": [
        {
          "output_type": "stream",
          "name": "stdout",
          "text": [
            "Epoch 1/10\n",
            "1563/1563 [==============================] - 64s 41ms/step - loss: 1.7280 - accuracy: 0.4384\n",
            "Epoch 2/10\n",
            "1563/1563 [==============================] - 62s 40ms/step - loss: 1.1975 - accuracy: 0.5812\n",
            "Epoch 3/10\n",
            "1563/1563 [==============================] - 62s 40ms/step - loss: 1.0556 - accuracy: 0.6354\n",
            "Epoch 4/10\n",
            "1563/1563 [==============================] - 62s 40ms/step - loss: 0.9339 - accuracy: 0.6755\n",
            "Epoch 5/10\n",
            "1563/1563 [==============================] - 62s 40ms/step - loss: 0.8460 - accuracy: 0.7074\n",
            "Epoch 6/10\n",
            "1563/1563 [==============================] - 63s 40ms/step - loss: 0.7593 - accuracy: 0.7372\n",
            "Epoch 7/10\n",
            "1563/1563 [==============================] - 69s 44ms/step - loss: 0.6633 - accuracy: 0.7710\n",
            "Epoch 8/10\n",
            "1563/1563 [==============================] - 68s 44ms/step - loss: 0.6004 - accuracy: 0.7927\n",
            "Epoch 9/10\n",
            "1563/1563 [==============================] - 63s 41ms/step - loss: 0.5259 - accuracy: 0.8190\n",
            "Epoch 10/10\n",
            "1563/1563 [==============================] - 62s 40ms/step - loss: 0.4687 - accuracy: 0.8377\n"
          ]
        },
        {
          "output_type": "execute_result",
          "data": {
            "text/plain": [
              "<keras.callbacks.History at 0x7fdbb0d9b690>"
            ]
          },
          "metadata": {},
          "execution_count": 5
        }
      ]
    },
    {
      "cell_type": "code",
      "source": [
        "y_pred = cnn.predict(X_test)\n",
        "y_pred_classes = [np.argmax(element) for element in y_pred]\n",
        "\n",
        "print(\"Classification Report: \\n\", classification_report(y_test, y_pred_classes))"
      ],
      "metadata": {
        "colab": {
          "base_uri": "https://localhost:8080/"
        },
        "id": "v3srBHWs3A1I",
        "outputId": "7832cfdb-f76e-4e28-9126-b80cc5537ca3"
      },
      "execution_count": null,
      "outputs": [
        {
          "output_type": "stream",
          "name": "stdout",
          "text": [
            "Classification Report: \n",
            "               precision    recall  f1-score   support\n",
            "\n",
            "           0       0.67      0.78      0.72      1000\n",
            "           1       0.75      0.84      0.79      1000\n",
            "           2       0.58      0.58      0.58      1000\n",
            "           3       0.54      0.45      0.49      1000\n",
            "           4       0.58      0.69      0.63      1000\n",
            "           5       0.65      0.48      0.55      1000\n",
            "           6       0.72      0.80      0.76      1000\n",
            "           7       0.84      0.64      0.73      1000\n",
            "           8       0.76      0.76      0.76      1000\n",
            "           9       0.73      0.80      0.76      1000\n",
            "\n",
            "    accuracy                           0.68     10000\n",
            "   macro avg       0.68      0.68      0.68     10000\n",
            "weighted avg       0.68      0.68      0.68     10000\n",
            "\n"
          ]
        }
      ]
    },
    {
      "cell_type": "code",
      "source": [
        "classes = [\"airplane\",\"automobile\",\"bird\",\"cat\",\"deer\",\"dog\",\"frog\",\"horse\",\"ship\",\"truck\"]\n",
        "y_test = y_test.reshape(-1,)\n",
        "\n",
        "def plot_sample(X, y, index):\n",
        "    plt.figure(figsize = (15,2))\n",
        "    plt.imshow(X[index])\n",
        "    plt.xlabel(classes[y[index]])"
      ],
      "metadata": {
        "id": "5KTuCR1a48tW"
      },
      "execution_count": 7,
      "outputs": []
    },
    {
      "cell_type": "code",
      "source": [
        "#prediction time\n",
        "y_pred = cnn.predict(X_test)\n",
        "\n",
        "prediksi =[np.argmax(kelas) for kelas in y_pred]"
      ],
      "metadata": {
        "id": "t-I4wrOH4Fa-"
      },
      "execution_count": 9,
      "outputs": []
    },
    {
      "cell_type": "code",
      "source": [
        "#Prediksi benar\n",
        "test_id = 13\n",
        "plot_sample(X_test, y_test,test_id)\n",
        "print(\"Prediction Result is:\")\n",
        "print(classes[prediksi[test_id]])\n",
        "print(\"============================\")"
      ],
      "metadata": {
        "colab": {
          "base_uri": "https://localhost:8080/",
          "height": 225
        },
        "id": "7aJZZMHpyLYe",
        "outputId": "93b50213-3055-4f90-8669-f5435507f98f"
      },
      "execution_count": null,
      "outputs": [
        {
          "output_type": "stream",
          "name": "stdout",
          "text": [
            "Prediction Result is:\n",
            "horse\n",
            "============================\n"
          ]
        },
        {
          "output_type": "display_data",
          "data": {
            "text/plain": [
              "<Figure size 1080x144 with 1 Axes>"
            ],
            "image/png": "[encoded data removed]"
          },
          "metadata": {
            "needs_background": "light"
          }
        }
      ]
    },
    {
      "cell_type": "code",
      "source": [
        "#Prediksi salah\n",
        "test_id = 1\n",
        "plot_sample(X_test, y_test,test_id)\n",
        "print(\"Prediction Result is:\")\n",
        "print(classes[prediksi[test_id]])\n",
        "print(\"============================\")"
      ],
      "metadata": {
        "colab": {
          "base_uri": "https://localhost:8080/",
          "height": 225
        },
        "id": "YemCBKnlsn6k",
        "outputId": "91906e7b-484e-4d8e-bb29-c0ed631aeec2"
      },
      "execution_count": 11,
      "outputs": [
        {
          "output_type": "stream",
          "name": "stdout",
          "text": [
            "Prediction Result is:\n",
            "automobile\n",
            "============================\n"
          ]
        },
        {
          "output_type": "display_data",
          "data": {
            "text/plain": [
              "<Figure size 1080x144 with 1 Axes>"
            ],
            "image/png": "[encoded data removed]"
          },
          "metadata": {
            "needs_background": "light"
          }
        }
      ]
    },
    {
      "cell_type": "code",
      "source": [
        "cnn.summary()"
      ],
      "metadata": {
        "colab": {
          "base_uri": "https://localhost:8080/"
        },
        "id": "nabzqS74rHUp",
        "outputId": "b223daa3-5406-43e8-f9b8-4247064f1cd2"
      },
      "execution_count": 6,
      "outputs": [
        {
          "output_type": "stream",
          "name": "stdout",
          "text": [
            "Model: \"sequential\"\n",
            "_________________________________________________________________\n",
            " Layer (type)                Output Shape              Param #   \n",
            "=================================================================\n",
            " conv2d (Conv2D)             (None, 30, 30, 32)        896       \n",
            "                                                                 \n",
            " max_pooling2d (MaxPooling2D  (None, 15, 15, 32)       0         \n",
            " )                                                               \n",
            "                                                                 \n",
            " conv2d_1 (Conv2D)           (None, 13, 13, 64)        18496     \n",
            "                                                                 \n",
            " max_pooling2d_1 (MaxPooling  (None, 6, 6, 64)         0         \n",
            " 2D)                                                             \n",
            "                                                                 \n",
            " flatten (Flatten)           (None, 2304)              0         \n",
            "                                                                 \n",
            " dense (Dense)               (None, 128)               295040    \n",
            "                                                                 \n",
            " dense_1 (Dense)             (None, 64)                8256      \n",
            "                                                                 \n",
            " dense_2 (Dense)             (None, 10)                650       \n",
            "                                                                 \n",
            "=================================================================\n",
            "Total params: 323,338\n",
            "Trainable params: 323,338\n",
            "Non-trainable params: 0\n",
            "_________________________________________________________________\n"
          ]
        }
      ]
    }
  ]
}