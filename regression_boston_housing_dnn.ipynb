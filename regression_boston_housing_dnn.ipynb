{
  "nbformat": 4,
  "nbformat_minor": 0,
  "metadata": {
    "colab": {
      "name": "boston_housing_regression_dnn1.ipynb",
      "provenance": [],
      "collapsed_sections": []
    },
    "kernelspec": {
      "name": "python3",
      "display_name": "Python 3"
    },
    "language_info": {
      "name": "python"
    },
    "accelerator": "GPU"
  },
  "cells": [
    {
      "cell_type": "code",
      "execution_count": 1,
      "metadata": {
        "id": "uVxNdIreCIvV"
      },
      "outputs": [],
      "source": [
        "import tensorflow as tf\n",
        "from tensorflow.keras.datasets import boston_housing\n",
        "from sklearn import preprocessing"
      ]
    },
    {
      "cell_type": "code",
      "source": [
        "(train_x,train_y),(test_x,test_y) = boston_housing.load_data()"
      ],
      "metadata": {
        "colab": {
          "base_uri": "https://localhost:8080/"
        },
        "id": "pK0id532C9_s",
        "outputId": "e24cc26f-36ac-400c-9c50-1fb40114c566"
      },
      "execution_count": 2,
      "outputs": [
        {
          "output_type": "stream",
          "name": "stdout",
          "text": [
            "Downloading data from https://storage.googleapis.com/tensorflow/tf-keras-datasets/boston_housing.npz\n",
            "57344/57026 [==============================] - 0s 0us/step\n",
            "65536/57026 [==================================] - 0s 0us/step\n"
          ]
        }
      ]
    },
    {
      "cell_type": "code",
      "source": [
        "train_x = preprocessing.normalize(train_x)\n",
        "test_x = preprocessing.normalize(test_x)"
      ],
      "metadata": {
        "id": "LbYaJ-CvEnnj"
      },
      "execution_count": 3,
      "outputs": []
    },
    {
      "cell_type": "code",
      "source": [
        "from tensorflow.keras.models import Sequential\n",
        "from tensorflow.keras.layers import *\n",
        "\n",
        "def HousePricePredictionModel():\n",
        "  model = Sequential()\n",
        "  model.add(Dense(128,activation='sigmoid'))\n",
        "  model.add(Dense(64,activation='sigmoid'))\n",
        "  model.add(Dense(1))\n",
        "  model.compile(optimizer='adam',loss='mape',metrics=['mae'])\n",
        "  return model"
      ],
      "metadata": {
        "id": "tuVwyML8FQWr"
      },
      "execution_count": 4,
      "outputs": []
    },
    {
      "cell_type": "code",
      "source": [
        "import numpy as np\n",
        "k = 4\n",
        "num_val_samples = len(train_x)\n",
        "num_epochs = 100\n",
        "all_scores = []"
      ],
      "metadata": {
        "id": "xETtX6-xHFqy"
      },
      "execution_count": 5,
      "outputs": []
    },
    {
      "cell_type": "code",
      "source": [
        "model = HousePricePredictionModel()\n",
        "history=model.fit(x = train_x, y = train_y, epochs=num_epochs, batch_size=1, verbose=1, validation_data=(test_x,test_y))"
      ],
      "metadata": {
        "colab": {
          "base_uri": "https://localhost:8080/"
        },
        "id": "q-PiGQeMHcLK",
        "outputId": "aacbb145-7ed1-4091-8771-79b4419b7246"
      },
      "execution_count": 6,
      "outputs": [
        {
          "output_type": "stream",
          "name": "stdout",
          "text": [
            "Epoch 1/100\n",
            "404/404 [==============================] - 2s 4ms/step - loss: 53.6353 - mae: 13.1457 - val_loss: 40.6115 - val_mae: 9.6799\n",
            "Epoch 2/100\n",
            "404/404 [==============================] - 2s 4ms/step - loss: 32.1059 - mae: 7.6848 - val_loss: 36.2936 - val_mae: 7.7940\n",
            "Epoch 3/100\n",
            "404/404 [==============================] - 2s 5ms/step - loss: 30.9246 - mae: 7.0271 - val_loss: 35.5728 - val_mae: 7.3975\n",
            "Epoch 4/100\n",
            "404/404 [==============================] - 2s 6ms/step - loss: 30.9330 - mae: 6.8409 - val_loss: 35.6086 - val_mae: 7.4243\n",
            "Epoch 5/100\n",
            "404/404 [==============================] - 2s 6ms/step - loss: 30.8742 - mae: 6.9191 - val_loss: 35.3944 - val_mae: 7.2727\n",
            "Epoch 6/100\n",
            "404/404 [==============================] - 1s 2ms/step - loss: 30.7201 - mae: 6.7514 - val_loss: 35.8893 - val_mae: 7.7499\n",
            "Epoch 7/100\n",
            "404/404 [==============================] - 1s 2ms/step - loss: 30.3736 - mae: 6.8775 - val_loss: 34.7424 - val_mae: 7.2310\n",
            "Epoch 8/100\n",
            "404/404 [==============================] - 1s 2ms/step - loss: 29.1622 - mae: 6.7070 - val_loss: 33.7588 - val_mae: 6.8047\n",
            "Epoch 9/100\n",
            "404/404 [==============================] - 1s 2ms/step - loss: 27.3892 - mae: 6.3822 - val_loss: 32.8755 - val_mae: 7.5376\n",
            "Epoch 10/100\n",
            "404/404 [==============================] - 1s 2ms/step - loss: 25.8790 - mae: 6.1745 - val_loss: 30.6660 - val_mae: 6.8273\n",
            "Epoch 11/100\n",
            "404/404 [==============================] - 1s 2ms/step - loss: 24.2905 - mae: 5.8557 - val_loss: 29.8207 - val_mae: 6.0673\n",
            "Epoch 12/100\n",
            "404/404 [==============================] - 1s 2ms/step - loss: 23.6528 - mae: 5.5823 - val_loss: 27.9799 - val_mae: 6.2871\n",
            "Epoch 13/100\n",
            "404/404 [==============================] - 1s 2ms/step - loss: 22.9269 - mae: 5.4939 - val_loss: 27.7729 - val_mae: 5.9536\n",
            "Epoch 14/100\n",
            "404/404 [==============================] - 1s 2ms/step - loss: 22.5843 - mae: 5.4581 - val_loss: 27.8975 - val_mae: 5.8249\n",
            "Epoch 15/100\n",
            "404/404 [==============================] - 1s 2ms/step - loss: 22.4960 - mae: 5.3722 - val_loss: 27.6200 - val_mae: 5.8034\n",
            "Epoch 16/100\n",
            "404/404 [==============================] - 1s 2ms/step - loss: 22.5266 - mae: 5.3638 - val_loss: 27.0503 - val_mae: 5.8843\n",
            "Epoch 17/100\n",
            "404/404 [==============================] - 1s 2ms/step - loss: 22.3526 - mae: 5.3666 - val_loss: 26.5490 - val_mae: 6.0277\n",
            "Epoch 18/100\n",
            "404/404 [==============================] - 1s 2ms/step - loss: 21.9187 - mae: 5.2953 - val_loss: 26.4364 - val_mae: 6.1309\n",
            "Epoch 19/100\n",
            "404/404 [==============================] - 1s 3ms/step - loss: 21.9646 - mae: 5.3336 - val_loss: 28.8997 - val_mae: 7.1273\n",
            "Epoch 20/100\n",
            "404/404 [==============================] - 1s 2ms/step - loss: 21.5442 - mae: 5.2209 - val_loss: 26.1189 - val_mae: 6.0841\n",
            "Epoch 21/100\n",
            "404/404 [==============================] - 1s 2ms/step - loss: 21.7190 - mae: 5.2083 - val_loss: 26.4904 - val_mae: 5.7860\n",
            "Epoch 22/100\n",
            "404/404 [==============================] - 1s 3ms/step - loss: 21.6238 - mae: 5.2303 - val_loss: 25.9021 - val_mae: 6.0039\n",
            "Epoch 23/100\n",
            "404/404 [==============================] - 1s 3ms/step - loss: 21.3939 - mae: 5.1817 - val_loss: 26.3236 - val_mae: 5.7692\n",
            "Epoch 24/100\n",
            "404/404 [==============================] - 1s 2ms/step - loss: 21.3532 - mae: 5.1139 - val_loss: 26.5083 - val_mae: 5.7329\n",
            "Epoch 25/100\n",
            "404/404 [==============================] - 1s 2ms/step - loss: 21.1094 - mae: 5.1502 - val_loss: 25.8292 - val_mae: 5.9431\n",
            "Epoch 26/100\n",
            "404/404 [==============================] - 1s 2ms/step - loss: 20.9858 - mae: 5.1075 - val_loss: 25.9031 - val_mae: 5.8158\n",
            "Epoch 27/100\n",
            "404/404 [==============================] - 1s 2ms/step - loss: 20.7070 - mae: 5.0536 - val_loss: 25.7298 - val_mae: 6.0318\n",
            "Epoch 28/100\n",
            "404/404 [==============================] - 1s 2ms/step - loss: 21.1190 - mae: 5.1713 - val_loss: 25.5986 - val_mae: 5.9127\n",
            "Epoch 29/100\n",
            "404/404 [==============================] - 1s 2ms/step - loss: 20.8027 - mae: 5.0198 - val_loss: 26.5987 - val_mae: 6.4741\n",
            "Epoch 30/100\n",
            "404/404 [==============================] - 1s 3ms/step - loss: 20.8950 - mae: 5.1164 - val_loss: 26.0019 - val_mae: 5.6565\n",
            "Epoch 31/100\n",
            "404/404 [==============================] - 1s 2ms/step - loss: 20.5558 - mae: 4.9698 - val_loss: 25.7004 - val_mae: 6.0268\n",
            "Epoch 32/100\n",
            "404/404 [==============================] - 1s 2ms/step - loss: 20.6302 - mae: 4.9890 - val_loss: 26.2219 - val_mae: 5.5930\n",
            "Epoch 33/100\n",
            "404/404 [==============================] - 1s 2ms/step - loss: 20.4982 - mae: 5.0050 - val_loss: 26.1362 - val_mae: 5.5804\n",
            "Epoch 34/100\n",
            "404/404 [==============================] - 1s 2ms/step - loss: 20.5402 - mae: 4.9806 - val_loss: 26.1500 - val_mae: 5.5518\n",
            "Epoch 35/100\n",
            "404/404 [==============================] - 1s 2ms/step - loss: 20.3983 - mae: 4.9852 - val_loss: 25.1995 - val_mae: 5.7944\n",
            "Epoch 36/100\n",
            "404/404 [==============================] - 1s 2ms/step - loss: 20.2734 - mae: 4.9971 - val_loss: 26.1374 - val_mae: 5.5045\n",
            "Epoch 37/100\n",
            "404/404 [==============================] - 1s 2ms/step - loss: 20.3272 - mae: 4.9584 - val_loss: 26.0141 - val_mae: 5.4791\n",
            "Epoch 38/100\n",
            "404/404 [==============================] - 1s 2ms/step - loss: 20.0674 - mae: 4.9282 - val_loss: 28.9910 - val_mae: 5.4800\n",
            "Epoch 39/100\n",
            "404/404 [==============================] - 1s 3ms/step - loss: 20.4581 - mae: 4.9539 - val_loss: 25.0875 - val_mae: 5.7801\n",
            "Epoch 40/100\n",
            "404/404 [==============================] - 1s 2ms/step - loss: 20.1626 - mae: 4.9497 - val_loss: 25.2266 - val_mae: 5.6596\n",
            "Epoch 41/100\n",
            "404/404 [==============================] - 1s 2ms/step - loss: 19.8273 - mae: 4.9025 - val_loss: 25.1629 - val_mae: 5.5949\n",
            "Epoch 42/100\n",
            "404/404 [==============================] - 1s 2ms/step - loss: 19.9284 - mae: 4.9171 - val_loss: 25.0038 - val_mae: 5.5520\n",
            "Epoch 43/100\n",
            "404/404 [==============================] - 1s 2ms/step - loss: 19.8886 - mae: 4.9127 - val_loss: 25.2215 - val_mae: 5.5509\n",
            "Epoch 44/100\n",
            "404/404 [==============================] - 1s 2ms/step - loss: 19.7831 - mae: 4.8848 - val_loss: 24.9838 - val_mae: 5.5920\n",
            "Epoch 45/100\n",
            "404/404 [==============================] - 1s 2ms/step - loss: 19.9842 - mae: 4.9507 - val_loss: 25.0166 - val_mae: 5.5603\n",
            "Epoch 46/100\n",
            "404/404 [==============================] - 1s 2ms/step - loss: 19.9221 - mae: 4.9284 - val_loss: 24.7792 - val_mae: 5.8628\n",
            "Epoch 47/100\n",
            "404/404 [==============================] - 1s 2ms/step - loss: 19.5988 - mae: 4.8875 - val_loss: 25.6305 - val_mae: 6.2749\n",
            "Epoch 48/100\n",
            "404/404 [==============================] - 1s 2ms/step - loss: 19.7469 - mae: 4.9129 - val_loss: 24.7375 - val_mae: 5.7594\n",
            "Epoch 49/100\n",
            "404/404 [==============================] - 1s 2ms/step - loss: 19.8967 - mae: 4.8895 - val_loss: 24.6814 - val_mae: 5.7078\n",
            "Epoch 50/100\n",
            "404/404 [==============================] - 1s 3ms/step - loss: 19.4035 - mae: 4.8337 - val_loss: 24.8040 - val_mae: 5.8078\n",
            "Epoch 51/100\n",
            "404/404 [==============================] - 1s 2ms/step - loss: 19.4234 - mae: 4.8584 - val_loss: 24.7775 - val_mae: 5.4210\n",
            "Epoch 52/100\n",
            "404/404 [==============================] - 1s 2ms/step - loss: 19.4474 - mae: 4.8271 - val_loss: 24.4021 - val_mae: 5.5390\n",
            "Epoch 53/100\n",
            "404/404 [==============================] - 1s 2ms/step - loss: 19.2047 - mae: 4.7728 - val_loss: 24.7295 - val_mae: 5.9078\n",
            "Epoch 54/100\n",
            "404/404 [==============================] - 1s 2ms/step - loss: 19.4823 - mae: 4.8530 - val_loss: 25.3822 - val_mae: 6.2196\n",
            "Epoch 55/100\n",
            "404/404 [==============================] - 1s 2ms/step - loss: 19.4166 - mae: 4.9004 - val_loss: 26.4577 - val_mae: 5.2942\n",
            "Epoch 56/100\n",
            "404/404 [==============================] - 1s 2ms/step - loss: 19.5223 - mae: 4.7795 - val_loss: 24.7702 - val_mae: 5.3819\n",
            "Epoch 57/100\n",
            "404/404 [==============================] - 1s 2ms/step - loss: 18.8924 - mae: 4.6990 - val_loss: 24.2813 - val_mae: 5.4818\n",
            "Epoch 58/100\n",
            "404/404 [==============================] - 1s 2ms/step - loss: 19.4872 - mae: 4.7544 - val_loss: 24.4476 - val_mae: 5.6542\n",
            "Epoch 59/100\n",
            "404/404 [==============================] - 1s 2ms/step - loss: 18.9218 - mae: 4.7298 - val_loss: 24.2749 - val_mae: 5.4639\n",
            "Epoch 60/100\n",
            "404/404 [==============================] - 1s 2ms/step - loss: 19.1121 - mae: 4.7309 - val_loss: 24.6076 - val_mae: 5.3325\n",
            "Epoch 61/100\n",
            "404/404 [==============================] - 1s 2ms/step - loss: 19.0015 - mae: 4.7598 - val_loss: 24.3666 - val_mae: 5.7831\n",
            "Epoch 62/100\n",
            "404/404 [==============================] - 1s 2ms/step - loss: 18.9398 - mae: 4.7551 - val_loss: 24.4361 - val_mae: 5.3545\n",
            "Epoch 63/100\n",
            "404/404 [==============================] - 1s 2ms/step - loss: 18.8382 - mae: 4.6847 - val_loss: 24.5321 - val_mae: 5.9268\n",
            "Epoch 64/100\n",
            "404/404 [==============================] - 1s 2ms/step - loss: 18.9388 - mae: 4.7713 - val_loss: 24.7120 - val_mae: 5.2731\n",
            "Epoch 65/100\n",
            "404/404 [==============================] - 1s 2ms/step - loss: 18.6866 - mae: 4.7050 - val_loss: 23.9358 - val_mae: 5.5176\n",
            "Epoch 66/100\n",
            "404/404 [==============================] - 1s 2ms/step - loss: 18.9713 - mae: 4.7521 - val_loss: 24.0230 - val_mae: 5.3705\n",
            "Epoch 67/100\n",
            "404/404 [==============================] - 1s 2ms/step - loss: 18.9320 - mae: 4.7297 - val_loss: 23.7465 - val_mae: 5.4753\n",
            "Epoch 68/100\n",
            "404/404 [==============================] - 1s 2ms/step - loss: 18.6724 - mae: 4.6945 - val_loss: 23.8729 - val_mae: 5.3307\n",
            "Epoch 69/100\n",
            "404/404 [==============================] - 1s 2ms/step - loss: 18.5701 - mae: 4.6822 - val_loss: 23.6663 - val_mae: 5.4452\n",
            "Epoch 70/100\n",
            "404/404 [==============================] - 1s 2ms/step - loss: 18.9089 - mae: 4.6958 - val_loss: 23.6494 - val_mae: 5.4283\n",
            "Epoch 71/100\n",
            "404/404 [==============================] - 1s 2ms/step - loss: 18.6340 - mae: 4.6755 - val_loss: 23.8085 - val_mae: 5.2399\n",
            "Epoch 72/100\n",
            "404/404 [==============================] - 1s 2ms/step - loss: 18.5515 - mae: 4.6329 - val_loss: 23.3934 - val_mae: 5.3144\n",
            "Epoch 73/100\n",
            "404/404 [==============================] - 1s 2ms/step - loss: 18.5697 - mae: 4.6655 - val_loss: 23.4199 - val_mae: 5.3958\n",
            "Epoch 74/100\n",
            "404/404 [==============================] - 1s 2ms/step - loss: 18.5717 - mae: 4.6405 - val_loss: 23.4242 - val_mae: 5.2541\n",
            "Epoch 75/100\n",
            "404/404 [==============================] - 1s 2ms/step - loss: 18.3599 - mae: 4.6246 - val_loss: 23.3502 - val_mae: 5.2494\n",
            "Epoch 76/100\n",
            "404/404 [==============================] - 1s 2ms/step - loss: 18.3862 - mae: 4.6245 - val_loss: 23.2237 - val_mae: 5.4457\n",
            "Epoch 77/100\n",
            "404/404 [==============================] - 1s 2ms/step - loss: 18.2659 - mae: 4.6344 - val_loss: 23.1555 - val_mae: 5.2447\n",
            "Epoch 78/100\n",
            "404/404 [==============================] - 1s 2ms/step - loss: 18.3155 - mae: 4.5733 - val_loss: 23.1561 - val_mae: 5.3415\n",
            "Epoch 79/100\n",
            "404/404 [==============================] - 1s 2ms/step - loss: 18.2089 - mae: 4.5921 - val_loss: 23.3824 - val_mae: 5.6531\n",
            "Epoch 80/100\n",
            "404/404 [==============================] - 1s 2ms/step - loss: 18.1563 - mae: 4.5982 - val_loss: 24.8946 - val_mae: 5.0821\n",
            "Epoch 81/100\n",
            "404/404 [==============================] - 1s 2ms/step - loss: 18.3795 - mae: 4.5994 - val_loss: 23.0261 - val_mae: 5.2200\n",
            "Epoch 82/100\n",
            "404/404 [==============================] - 1s 3ms/step - loss: 18.2006 - mae: 4.5771 - val_loss: 23.1398 - val_mae: 5.4536\n",
            "Epoch 83/100\n",
            "404/404 [==============================] - 1s 2ms/step - loss: 18.0705 - mae: 4.6104 - val_loss: 23.3641 - val_mae: 5.1144\n",
            "Epoch 84/100\n",
            "404/404 [==============================] - 1s 3ms/step - loss: 18.2535 - mae: 4.5949 - val_loss: 23.3685 - val_mae: 5.7375\n",
            "Epoch 85/100\n",
            "404/404 [==============================] - 1s 2ms/step - loss: 17.9555 - mae: 4.5379 - val_loss: 23.2946 - val_mae: 5.0662\n",
            "Epoch 86/100\n",
            "404/404 [==============================] - 1s 2ms/step - loss: 17.9443 - mae: 4.5475 - val_loss: 23.7433 - val_mae: 5.0396\n",
            "Epoch 87/100\n",
            "404/404 [==============================] - 1s 2ms/step - loss: 18.0126 - mae: 4.5881 - val_loss: 22.7186 - val_mae: 5.2530\n",
            "Epoch 88/100\n",
            "404/404 [==============================] - 1s 2ms/step - loss: 18.0672 - mae: 4.5408 - val_loss: 23.1738 - val_mae: 5.6266\n",
            "Epoch 89/100\n",
            "404/404 [==============================] - 1s 2ms/step - loss: 17.8888 - mae: 4.5654 - val_loss: 23.4419 - val_mae: 5.0354\n",
            "Epoch 90/100\n",
            "404/404 [==============================] - 1s 2ms/step - loss: 18.0966 - mae: 4.5434 - val_loss: 22.7354 - val_mae: 5.3796\n",
            "Epoch 91/100\n",
            "404/404 [==============================] - 1s 2ms/step - loss: 17.8774 - mae: 4.5347 - val_loss: 22.6987 - val_mae: 5.2649\n",
            "Epoch 92/100\n",
            "404/404 [==============================] - 1s 2ms/step - loss: 17.8826 - mae: 4.5195 - val_loss: 22.9662 - val_mae: 5.5433\n",
            "Epoch 93/100\n",
            "404/404 [==============================] - 1s 2ms/step - loss: 17.8294 - mae: 4.4817 - val_loss: 22.7079 - val_mae: 5.1407\n",
            "Epoch 94/100\n",
            "404/404 [==============================] - 1s 2ms/step - loss: 17.9983 - mae: 4.5706 - val_loss: 22.5830 - val_mae: 5.1526\n",
            "Epoch 95/100\n",
            "404/404 [==============================] - 1s 2ms/step - loss: 17.8297 - mae: 4.5119 - val_loss: 22.4610 - val_mae: 5.1096\n",
            "Epoch 96/100\n",
            "404/404 [==============================] - 1s 2ms/step - loss: 17.8581 - mae: 4.4964 - val_loss: 22.3746 - val_mae: 5.2748\n",
            "Epoch 97/100\n",
            "404/404 [==============================] - 1s 3ms/step - loss: 17.7392 - mae: 4.5124 - val_loss: 22.2593 - val_mae: 5.2329\n",
            "Epoch 98/100\n",
            "404/404 [==============================] - 1s 3ms/step - loss: 17.4059 - mae: 4.5146 - val_loss: 22.3417 - val_mae: 5.0066\n",
            "Epoch 99/100\n",
            "404/404 [==============================] - 1s 3ms/step - loss: 17.6846 - mae: 4.4764 - val_loss: 22.1882 - val_mae: 5.2502\n",
            "Epoch 100/100\n",
            "404/404 [==============================] - 1s 2ms/step - loss: 17.8323 - mae: 4.5477 - val_loss: 22.1465 - val_mae: 5.0550\n"
          ]
        }
      ]
    },
    {
      "cell_type": "code",
      "source": [
        "model.summary()"
      ],
      "metadata": {
        "colab": {
          "base_uri": "https://localhost:8080/"
        },
        "id": "ja4IAtUr2pLl",
        "outputId": "2b7da86f-69ad-47fe-ff1d-9505868384c0"
      },
      "execution_count": 7,
      "outputs": [
        {
          "output_type": "stream",
          "name": "stdout",
          "text": [
            "Model: \"sequential\"\n",
            "_________________________________________________________________\n",
            " Layer (type)                Output Shape              Param #   \n",
            "=================================================================\n",
            " dense (Dense)               (1, 128)                  1792      \n",
            "                                                                 \n",
            " dense_1 (Dense)             (1, 64)                   8256      \n",
            "                                                                 \n",
            " dense_2 (Dense)             (1, 1)                    65        \n",
            "                                                                 \n",
            "=================================================================\n",
            "Total params: 10,113\n",
            "Trainable params: 10,113\n",
            "Non-trainable params: 0\n",
            "_________________________________________________________________\n"
          ]
        }
      ]
    }
  ]
}