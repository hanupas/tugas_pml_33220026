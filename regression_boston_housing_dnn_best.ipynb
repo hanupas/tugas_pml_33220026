{
  "nbformat": 4,
  "nbformat_minor": 0,
  "metadata": {
    "colab": {
      "name": "boston_housing_regression_dnn_best.ipynb",
      "provenance": [],
      "collapsed_sections": []
    },
    "kernelspec": {
      "name": "python3",
      "display_name": "Python 3"
    },
    "language_info": {
      "name": "python"
    },
    "accelerator": "GPU"
  },
  "cells": [
    {
      "cell_type": "code",
      "execution_count": 1,
      "metadata": {
        "id": "uVxNdIreCIvV"
      },
      "outputs": [],
      "source": [
        "import tensorflow as tf\n",
        "from tensorflow.keras.datasets import boston_housing\n",
        "from sklearn import preprocessing"
      ]
    },
    {
      "cell_type": "code",
      "source": [
        "(train_x,train_y),(test_x,test_y) = boston_housing.load_data()"
      ],
      "metadata": {
        "colab": {
          "base_uri": "https://localhost:8080/"
        },
        "id": "pK0id532C9_s",
        "outputId": "265b40d6-c518-4c73-cd2a-2ba7fc6c3b76"
      },
      "execution_count": 2,
      "outputs": [
        {
          "output_type": "stream",
          "name": "stdout",
          "text": [
            "Downloading data from https://storage.googleapis.com/tensorflow/tf-keras-datasets/boston_housing.npz\n",
            "57344/57026 [==============================] - 0s 0us/step\n",
            "65536/57026 [==================================] - 0s 0us/step\n"
          ]
        }
      ]
    },
    {
      "cell_type": "code",
      "source": [
        "train_x = preprocessing.normalize(train_x)\n",
        "test_x = preprocessing.normalize(test_x)"
      ],
      "metadata": {
        "id": "LbYaJ-CvEnnj"
      },
      "execution_count": 3,
      "outputs": []
    },
    {
      "cell_type": "code",
      "source": [
        "from tensorflow.keras.models import Sequential\n",
        "from tensorflow.keras.layers import *\n",
        "\n",
        "def HousePricePredictionModel():\n",
        "  model = Sequential()\n",
        "  model.add(Dense(128,activation='relu',input_shape=(train_x[0].shape)))\n",
        "  model.add(Dense(64,activation='relu'))\n",
        "  model.add(Dense(32,activation='relu'))\n",
        "  model.add(Dense(1))\n",
        "  model.compile(optimizer='rmsprop',loss='mse',metrics=['mae'])\n",
        "  return model"
      ],
      "metadata": {
        "id": "tuVwyML8FQWr"
      },
      "execution_count": 4,
      "outputs": []
    },
    {
      "cell_type": "code",
      "source": [
        "import numpy as np\n",
        "k = 4\n",
        "num_val_samples = len(train_x)\n",
        "num_epochs = 100\n",
        "all_scores = []"
      ],
      "metadata": {
        "id": "xETtX6-xHFqy"
      },
      "execution_count": 5,
      "outputs": []
    },
    {
      "cell_type": "code",
      "source": [
        "model = HousePricePredictionModel()\n",
        "history=model.fit(x = train_x, y = train_y, epochs=num_epochs, batch_size=1, verbose=1, validation_data=(test_x,test_y))"
      ],
      "metadata": {
        "colab": {
          "base_uri": "https://localhost:8080/"
        },
        "id": "q-PiGQeMHcLK",
        "outputId": "98fc73e8-f2b0-4a9d-dbde-911d43f024f1"
      },
      "execution_count": 6,
      "outputs": [
        {
          "output_type": "stream",
          "name": "stdout",
          "text": [
            "Epoch 1/100\n",
            "404/404 [==============================] - 4s 6ms/step - loss: 143.6025 - mae: 8.3774 - val_loss: 71.7072 - val_mae: 6.5223\n",
            "Epoch 2/100\n",
            "404/404 [==============================] - 2s 5ms/step - loss: 68.7234 - mae: 5.7492 - val_loss: 59.7112 - val_mae: 5.7660\n",
            "Epoch 3/100\n",
            "404/404 [==============================] - 2s 5ms/step - loss: 64.3415 - mae: 5.4681 - val_loss: 56.2349 - val_mae: 5.5748\n",
            "Epoch 4/100\n",
            "404/404 [==============================] - 1s 2ms/step - loss: 60.9201 - mae: 5.3196 - val_loss: 54.8843 - val_mae: 5.4569\n",
            "Epoch 5/100\n",
            "404/404 [==============================] - 1s 2ms/step - loss: 59.5593 - mae: 5.2367 - val_loss: 53.4640 - val_mae: 5.3723\n",
            "Epoch 6/100\n",
            "404/404 [==============================] - 1s 2ms/step - loss: 56.9077 - mae: 5.2073 - val_loss: 53.3881 - val_mae: 5.2966\n",
            "Epoch 7/100\n",
            "404/404 [==============================] - 1s 2ms/step - loss: 55.1310 - mae: 4.9800 - val_loss: 53.0567 - val_mae: 5.2207\n",
            "Epoch 8/100\n",
            "404/404 [==============================] - 1s 2ms/step - loss: 54.1274 - mae: 5.0527 - val_loss: 53.4854 - val_mae: 5.1824\n",
            "Epoch 9/100\n",
            "404/404 [==============================] - 1s 2ms/step - loss: 52.1036 - mae: 4.9266 - val_loss: 53.6109 - val_mae: 5.1621\n",
            "Epoch 10/100\n",
            "404/404 [==============================] - 1s 2ms/step - loss: 49.7917 - mae: 4.8153 - val_loss: 50.1670 - val_mae: 4.9869\n",
            "Epoch 11/100\n",
            "404/404 [==============================] - 1s 2ms/step - loss: 49.0255 - mae: 4.6818 - val_loss: 48.6816 - val_mae: 4.8901\n",
            "Epoch 12/100\n",
            "404/404 [==============================] - 1s 2ms/step - loss: 45.8886 - mae: 4.5960 - val_loss: 44.4600 - val_mae: 4.7589\n",
            "Epoch 13/100\n",
            "404/404 [==============================] - 1s 2ms/step - loss: 45.8289 - mae: 4.6742 - val_loss: 42.7497 - val_mae: 4.6027\n",
            "Epoch 14/100\n",
            "404/404 [==============================] - 1s 2ms/step - loss: 44.1843 - mae: 4.4252 - val_loss: 47.9788 - val_mae: 4.8355\n",
            "Epoch 15/100\n",
            "404/404 [==============================] - 1s 2ms/step - loss: 42.7997 - mae: 4.4720 - val_loss: 45.1693 - val_mae: 4.6672\n",
            "Epoch 16/100\n",
            "404/404 [==============================] - 1s 2ms/step - loss: 41.4859 - mae: 4.3954 - val_loss: 41.9697 - val_mae: 4.4708\n",
            "Epoch 17/100\n",
            "404/404 [==============================] - 1s 2ms/step - loss: 40.3316 - mae: 4.2901 - val_loss: 39.6821 - val_mae: 4.3359\n",
            "Epoch 18/100\n",
            "404/404 [==============================] - 1s 2ms/step - loss: 36.8891 - mae: 4.1847 - val_loss: 51.6945 - val_mae: 5.0248\n",
            "Epoch 19/100\n",
            "404/404 [==============================] - 1s 2ms/step - loss: 37.5040 - mae: 4.1926 - val_loss: 35.7998 - val_mae: 4.4832\n",
            "Epoch 20/100\n",
            "404/404 [==============================] - 1s 2ms/step - loss: 36.5057 - mae: 4.2139 - val_loss: 33.0112 - val_mae: 3.9976\n",
            "Epoch 21/100\n",
            "404/404 [==============================] - 1s 2ms/step - loss: 35.3271 - mae: 4.1734 - val_loss: 32.0353 - val_mae: 4.0715\n",
            "Epoch 22/100\n",
            "404/404 [==============================] - 1s 2ms/step - loss: 33.7496 - mae: 4.0602 - val_loss: 30.8074 - val_mae: 3.9215\n",
            "Epoch 23/100\n",
            "404/404 [==============================] - 1s 2ms/step - loss: 32.5428 - mae: 4.0337 - val_loss: 31.8233 - val_mae: 3.9249\n",
            "Epoch 24/100\n",
            "404/404 [==============================] - 1s 2ms/step - loss: 32.7514 - mae: 4.0197 - val_loss: 29.6140 - val_mae: 3.8722\n",
            "Epoch 25/100\n",
            "404/404 [==============================] - 1s 2ms/step - loss: 30.9553 - mae: 3.9324 - val_loss: 31.6099 - val_mae: 3.9086\n",
            "Epoch 26/100\n",
            "404/404 [==============================] - 1s 2ms/step - loss: 30.5006 - mae: 3.8569 - val_loss: 29.0503 - val_mae: 3.7914\n",
            "Epoch 27/100\n",
            "404/404 [==============================] - 1s 2ms/step - loss: 29.2082 - mae: 3.9002 - val_loss: 30.7336 - val_mae: 3.8377\n",
            "Epoch 28/100\n",
            "404/404 [==============================] - 1s 2ms/step - loss: 29.1066 - mae: 3.8355 - val_loss: 34.0577 - val_mae: 4.8130\n",
            "Epoch 29/100\n",
            "404/404 [==============================] - 1s 2ms/step - loss: 28.5163 - mae: 3.8192 - val_loss: 31.3104 - val_mae: 3.8495\n",
            "Epoch 30/100\n",
            "404/404 [==============================] - 1s 2ms/step - loss: 27.4323 - mae: 3.7818 - val_loss: 28.4028 - val_mae: 4.1740\n",
            "Epoch 31/100\n",
            "404/404 [==============================] - 1s 2ms/step - loss: 27.6773 - mae: 3.7733 - val_loss: 40.2443 - val_mae: 5.5157\n",
            "Epoch 32/100\n",
            "404/404 [==============================] - 1s 2ms/step - loss: 25.9285 - mae: 3.5518 - val_loss: 27.7330 - val_mae: 3.7892\n",
            "Epoch 33/100\n",
            "404/404 [==============================] - 1s 2ms/step - loss: 25.8046 - mae: 3.6325 - val_loss: 27.8437 - val_mae: 3.8994\n",
            "Epoch 34/100\n",
            "404/404 [==============================] - 1s 2ms/step - loss: 24.9614 - mae: 3.5651 - val_loss: 26.9036 - val_mae: 3.9231\n",
            "Epoch 35/100\n",
            "404/404 [==============================] - 1s 2ms/step - loss: 24.9863 - mae: 3.5800 - val_loss: 27.0970 - val_mae: 3.6925\n",
            "Epoch 36/100\n",
            "404/404 [==============================] - 1s 2ms/step - loss: 24.0456 - mae: 3.5770 - val_loss: 25.3370 - val_mae: 3.6351\n",
            "Epoch 37/100\n",
            "404/404 [==============================] - 1s 2ms/step - loss: 23.4082 - mae: 3.4958 - val_loss: 34.6192 - val_mae: 4.8610\n",
            "Epoch 38/100\n",
            "404/404 [==============================] - 1s 2ms/step - loss: 23.0888 - mae: 3.4189 - val_loss: 26.8975 - val_mae: 3.7788\n",
            "Epoch 39/100\n",
            "404/404 [==============================] - 1s 2ms/step - loss: 22.4255 - mae: 3.5348 - val_loss: 40.3493 - val_mae: 4.4643\n",
            "Epoch 40/100\n",
            "404/404 [==============================] - 1s 2ms/step - loss: 23.2867 - mae: 3.4685 - val_loss: 28.1929 - val_mae: 3.9728\n",
            "Epoch 41/100\n",
            "404/404 [==============================] - 1s 2ms/step - loss: 22.6838 - mae: 3.4909 - val_loss: 25.8122 - val_mae: 3.6905\n",
            "Epoch 42/100\n",
            "404/404 [==============================] - 1s 2ms/step - loss: 21.8319 - mae: 3.3769 - val_loss: 31.8830 - val_mae: 4.0563\n",
            "Epoch 43/100\n",
            "404/404 [==============================] - 1s 2ms/step - loss: 20.7519 - mae: 3.2572 - val_loss: 28.7598 - val_mae: 3.7749\n",
            "Epoch 44/100\n",
            "404/404 [==============================] - 1s 2ms/step - loss: 21.4894 - mae: 3.2918 - val_loss: 26.5892 - val_mae: 3.8331\n",
            "Epoch 45/100\n",
            "404/404 [==============================] - 1s 2ms/step - loss: 21.4528 - mae: 3.3769 - val_loss: 56.3330 - val_mae: 6.2506\n",
            "Epoch 46/100\n",
            "404/404 [==============================] - 1s 2ms/step - loss: 21.1292 - mae: 3.3377 - val_loss: 29.3277 - val_mae: 3.7889\n",
            "Epoch 47/100\n",
            "404/404 [==============================] - 1s 2ms/step - loss: 21.1003 - mae: 3.2781 - val_loss: 27.9610 - val_mae: 3.6709\n",
            "Epoch 48/100\n",
            "404/404 [==============================] - 1s 2ms/step - loss: 20.9911 - mae: 3.3595 - val_loss: 30.9378 - val_mae: 4.2010\n",
            "Epoch 49/100\n",
            "404/404 [==============================] - 1s 2ms/step - loss: 20.0456 - mae: 3.3196 - val_loss: 27.3926 - val_mae: 3.6822\n",
            "Epoch 50/100\n",
            "404/404 [==============================] - 1s 2ms/step - loss: 19.7372 - mae: 3.1761 - val_loss: 25.6909 - val_mae: 3.5438\n",
            "Epoch 51/100\n",
            "404/404 [==============================] - 1s 2ms/step - loss: 18.9333 - mae: 3.1428 - val_loss: 42.0488 - val_mae: 4.5352\n",
            "Epoch 52/100\n",
            "404/404 [==============================] - 1s 2ms/step - loss: 19.6886 - mae: 3.2422 - val_loss: 29.0270 - val_mae: 3.7437\n",
            "Epoch 53/100\n",
            "404/404 [==============================] - 1s 2ms/step - loss: 19.5354 - mae: 3.2028 - val_loss: 33.2520 - val_mae: 4.0174\n",
            "Epoch 54/100\n",
            "404/404 [==============================] - 1s 2ms/step - loss: 19.2347 - mae: 3.0895 - val_loss: 26.5514 - val_mae: 3.6104\n",
            "Epoch 55/100\n",
            "404/404 [==============================] - 1s 2ms/step - loss: 19.2612 - mae: 3.2287 - val_loss: 33.5387 - val_mae: 4.0591\n",
            "Epoch 56/100\n",
            "404/404 [==============================] - 1s 2ms/step - loss: 18.1812 - mae: 3.0062 - val_loss: 32.5324 - val_mae: 4.0120\n",
            "Epoch 57/100\n",
            "404/404 [==============================] - 1s 2ms/step - loss: 18.2806 - mae: 3.1642 - val_loss: 33.0252 - val_mae: 4.0596\n",
            "Epoch 58/100\n",
            "404/404 [==============================] - 1s 2ms/step - loss: 19.3068 - mae: 3.0608 - val_loss: 34.3212 - val_mae: 4.1098\n",
            "Epoch 59/100\n",
            "404/404 [==============================] - 1s 2ms/step - loss: 18.5684 - mae: 3.1367 - val_loss: 30.6523 - val_mae: 3.7920\n",
            "Epoch 60/100\n",
            "404/404 [==============================] - 1s 2ms/step - loss: 18.3716 - mae: 3.0034 - val_loss: 41.5379 - val_mae: 4.9154\n",
            "Epoch 61/100\n",
            "404/404 [==============================] - 1s 2ms/step - loss: 17.9155 - mae: 3.1393 - val_loss: 28.9516 - val_mae: 3.7098\n",
            "Epoch 62/100\n",
            "404/404 [==============================] - 1s 2ms/step - loss: 18.3023 - mae: 3.0396 - val_loss: 32.8353 - val_mae: 4.1380\n",
            "Epoch 63/100\n",
            "404/404 [==============================] - 1s 2ms/step - loss: 16.7388 - mae: 3.0524 - val_loss: 37.7877 - val_mae: 4.2428\n",
            "Epoch 64/100\n",
            "404/404 [==============================] - 1s 2ms/step - loss: 18.0193 - mae: 3.0724 - val_loss: 43.0796 - val_mae: 4.7880\n",
            "Epoch 65/100\n",
            "404/404 [==============================] - 1s 2ms/step - loss: 19.1732 - mae: 3.0743 - val_loss: 29.8944 - val_mae: 3.7457\n",
            "Epoch 66/100\n",
            "404/404 [==============================] - 1s 2ms/step - loss: 18.1497 - mae: 3.0817 - val_loss: 29.7872 - val_mae: 3.7588\n",
            "Epoch 67/100\n",
            "404/404 [==============================] - 1s 2ms/step - loss: 18.1671 - mae: 3.0420 - val_loss: 34.3625 - val_mae: 4.0855\n",
            "Epoch 68/100\n",
            "404/404 [==============================] - 1s 2ms/step - loss: 18.2312 - mae: 3.0464 - val_loss: 27.1241 - val_mae: 3.8305\n",
            "Epoch 69/100\n",
            "404/404 [==============================] - 1s 2ms/step - loss: 16.8103 - mae: 2.9497 - val_loss: 30.6417 - val_mae: 3.7299\n",
            "Epoch 70/100\n",
            "404/404 [==============================] - 1s 2ms/step - loss: 16.8109 - mae: 2.9372 - val_loss: 32.5172 - val_mae: 3.9896\n",
            "Epoch 71/100\n",
            "404/404 [==============================] - 1s 2ms/step - loss: 17.2205 - mae: 3.0620 - val_loss: 34.7933 - val_mae: 4.2948\n",
            "Epoch 72/100\n",
            "404/404 [==============================] - 1s 2ms/step - loss: 17.9562 - mae: 3.0205 - val_loss: 27.6470 - val_mae: 3.5288\n",
            "Epoch 73/100\n",
            "404/404 [==============================] - 1s 2ms/step - loss: 17.8240 - mae: 3.0482 - val_loss: 34.2178 - val_mae: 4.2723\n",
            "Epoch 74/100\n",
            "404/404 [==============================] - 1s 2ms/step - loss: 17.6460 - mae: 3.0322 - val_loss: 33.9350 - val_mae: 3.9263\n",
            "Epoch 75/100\n",
            "404/404 [==============================] - 1s 2ms/step - loss: 17.3267 - mae: 3.0480 - val_loss: 29.9910 - val_mae: 3.8713\n",
            "Epoch 76/100\n",
            "404/404 [==============================] - 1s 2ms/step - loss: 17.1130 - mae: 3.0234 - val_loss: 33.2625 - val_mae: 4.0135\n",
            "Epoch 77/100\n",
            "404/404 [==============================] - 1s 2ms/step - loss: 16.1084 - mae: 2.8590 - val_loss: 48.4240 - val_mae: 5.0943\n",
            "Epoch 78/100\n",
            "404/404 [==============================] - 1s 2ms/step - loss: 17.0243 - mae: 2.9796 - val_loss: 37.0307 - val_mae: 4.0806\n",
            "Epoch 79/100\n",
            "404/404 [==============================] - 1s 2ms/step - loss: 17.9911 - mae: 3.0374 - val_loss: 29.1936 - val_mae: 3.6504\n",
            "Epoch 80/100\n",
            "404/404 [==============================] - 1s 2ms/step - loss: 17.9191 - mae: 3.0493 - val_loss: 36.7787 - val_mae: 4.0503\n",
            "Epoch 81/100\n",
            "404/404 [==============================] - 1s 2ms/step - loss: 17.9378 - mae: 3.0556 - val_loss: 29.9554 - val_mae: 3.7559\n",
            "Epoch 82/100\n",
            "404/404 [==============================] - 1s 2ms/step - loss: 17.8812 - mae: 2.9782 - val_loss: 29.2262 - val_mae: 3.6105\n",
            "Epoch 83/100\n",
            "404/404 [==============================] - 1s 2ms/step - loss: 16.8368 - mae: 2.9500 - val_loss: 27.9595 - val_mae: 3.6108\n",
            "Epoch 84/100\n",
            "404/404 [==============================] - 1s 2ms/step - loss: 16.9339 - mae: 3.0053 - val_loss: 30.0489 - val_mae: 3.7111\n",
            "Epoch 85/100\n",
            "404/404 [==============================] - 1s 2ms/step - loss: 16.7192 - mae: 2.9276 - val_loss: 28.5478 - val_mae: 3.6015\n",
            "Epoch 86/100\n",
            "404/404 [==============================] - 1s 2ms/step - loss: 16.5751 - mae: 2.9505 - val_loss: 37.1632 - val_mae: 4.3262\n",
            "Epoch 87/100\n",
            "404/404 [==============================] - 1s 2ms/step - loss: 16.8720 - mae: 2.9833 - val_loss: 30.5698 - val_mae: 3.7980\n",
            "Epoch 88/100\n",
            "404/404 [==============================] - 1s 2ms/step - loss: 16.8491 - mae: 2.9091 - val_loss: 30.9169 - val_mae: 3.8207\n",
            "Epoch 89/100\n",
            "404/404 [==============================] - 1s 2ms/step - loss: 17.3913 - mae: 2.9166 - val_loss: 27.6880 - val_mae: 3.5447\n",
            "Epoch 90/100\n",
            "404/404 [==============================] - 1s 2ms/step - loss: 16.9682 - mae: 3.0180 - val_loss: 27.3780 - val_mae: 3.5233\n",
            "Epoch 91/100\n",
            "404/404 [==============================] - 1s 2ms/step - loss: 17.2594 - mae: 2.9489 - val_loss: 33.2783 - val_mae: 4.0905\n",
            "Epoch 92/100\n",
            "404/404 [==============================] - 1s 2ms/step - loss: 16.2230 - mae: 2.8614 - val_loss: 26.6727 - val_mae: 3.5124\n",
            "Epoch 93/100\n",
            "404/404 [==============================] - 1s 2ms/step - loss: 18.1456 - mae: 2.9562 - val_loss: 26.2172 - val_mae: 3.4632\n",
            "Epoch 94/100\n",
            "404/404 [==============================] - 1s 2ms/step - loss: 16.4544 - mae: 2.8003 - val_loss: 26.1475 - val_mae: 3.4146\n",
            "Epoch 95/100\n",
            "404/404 [==============================] - 1s 2ms/step - loss: 17.6348 - mae: 2.9995 - val_loss: 28.1304 - val_mae: 3.5531\n",
            "Epoch 96/100\n",
            "404/404 [==============================] - 1s 2ms/step - loss: 16.4875 - mae: 2.9779 - val_loss: 30.3889 - val_mae: 3.7309\n",
            "Epoch 97/100\n",
            "404/404 [==============================] - 1s 2ms/step - loss: 16.9376 - mae: 2.9208 - val_loss: 32.4723 - val_mae: 3.9990\n",
            "Epoch 98/100\n",
            "404/404 [==============================] - 1s 2ms/step - loss: 16.7425 - mae: 2.8845 - val_loss: 31.2850 - val_mae: 3.7637\n",
            "Epoch 99/100\n",
            "404/404 [==============================] - 1s 2ms/step - loss: 16.2974 - mae: 2.8702 - val_loss: 28.4940 - val_mae: 3.5801\n",
            "Epoch 100/100\n",
            "404/404 [==============================] - 1s 2ms/step - loss: 17.8111 - mae: 2.9308 - val_loss: 29.6896 - val_mae: 3.7774\n"
          ]
        }
      ]
    },
    {
      "cell_type": "code",
      "source": [
        "model.summary()"
      ],
      "metadata": {
        "colab": {
          "base_uri": "https://localhost:8080/"
        },
        "id": "sZ64t1aB2tbM",
        "outputId": "c8bbe195-8fae-43e8-b526-d356ba771d07"
      },
      "execution_count": 7,
      "outputs": [
        {
          "output_type": "stream",
          "name": "stdout",
          "text": [
            "Model: \"sequential\"\n",
            "_________________________________________________________________\n",
            " Layer (type)                Output Shape              Param #   \n",
            "=================================================================\n",
            " dense (Dense)               (None, 128)               1792      \n",
            "                                                                 \n",
            " dense_1 (Dense)             (None, 64)                8256      \n",
            "                                                                 \n",
            " dense_2 (Dense)             (None, 32)                2080      \n",
            "                                                                 \n",
            " dense_3 (Dense)             (None, 1)                 33        \n",
            "                                                                 \n",
            "=================================================================\n",
            "Total params: 12,161\n",
            "Trainable params: 12,161\n",
            "Non-trainable params: 0\n",
            "_________________________________________________________________\n"
          ]
        }
      ]
    }
  ]
}